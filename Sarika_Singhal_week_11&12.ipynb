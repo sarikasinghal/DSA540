{
 "cells": [
  {
   "cell_type": "code",
   "execution_count": null,
   "id": "221fa669",
   "metadata": {},
   "outputs": [],
   "source": [
    "## Activity 11"
   ]
  },
  {
   "cell_type": "code",
   "execution_count": 1,
   "id": "adad1f51",
   "metadata": {},
   "outputs": [],
   "source": [
    "import sqlite3"
   ]
  },
  {
   "cell_type": "code",
   "execution_count": 9,
   "id": "9f092e35",
   "metadata": {},
   "outputs": [],
   "source": [
    "#Connect to petsdb\n",
    "conn = sqlite3.connect(\"petsdb\")"
   ]
  },
  {
   "cell_type": "code",
   "execution_count": 13,
   "id": "a17288aa",
   "metadata": {},
   "outputs": [],
   "source": [
    "# a tiny function to make sure the connection is successful\n",
    "def is_opened(conn):\n",
    "    try:\n",
    "        conn.execute(\"SELECT * FROM persons LIMIT 1\")\n",
    "        return True\n",
    "    except sqlite3.ProgrammingError as e:\n",
    "        print(\"Connection closed {}\".format(e))\n",
    "        return False"
   ]
  },
  {
   "cell_type": "code",
   "execution_count": 14,
   "id": "5d204d4e",
   "metadata": {},
   "outputs": [
    {
     "name": "stdout",
     "output_type": "stream",
     "text": [
      "<sqlite3.Connection object at 0x7f9afbb9e120>\n"
     ]
    }
   ],
   "source": [
    "print(conn)"
   ]
  },
  {
   "cell_type": "code",
   "execution_count": 15,
   "id": "598d1166",
   "metadata": {},
   "outputs": [
    {
     "name": "stdout",
     "output_type": "stream",
     "text": [
      "True\n"
     ]
    }
   ],
   "source": [
    "print(is_opened(conn))"
   ]
  },
  {
   "cell_type": "code",
   "execution_count": 16,
   "id": "0705d93c",
   "metadata": {},
   "outputs": [
    {
     "name": "stdout",
     "output_type": "stream",
     "text": [
      "[('persons',), ('pets',)]\n"
     ]
    }
   ],
   "source": [
    "conn = sqlite3.connect(\"petsdb\")\n",
    "c = conn.cursor()\n",
    "c.execute(\"SELECT name FROM sqlite_master WHERE type='table';\")\n",
    "print(c.fetchall()) # print list of tables in petsdb"
   ]
  },
  {
   "cell_type": "code",
   "execution_count": 20,
   "id": "f2319f77",
   "metadata": {},
   "outputs": [
    {
     "name": "stdout",
     "output_type": "stream",
     "text": [
      "Row No.  age   ppl count \n",
      "24       5     2         \n",
      "1        6     1         \n",
      "2        7     1         \n",
      "41       8     3         \n",
      "3        9     1         \n",
      "25       11    2         \n",
      "42       12    3         \n",
      "4        13    1         \n",
      "51       14    4         \n",
      "26       16    2         \n",
      "27       17    2         \n",
      "43       18    3         \n",
      "5        19    1         \n",
      "44       22    3         \n",
      "28       23    2         \n",
      "45       24    3         \n",
      "29       25    2         \n",
      "6        27    1         \n",
      "7        30    1         \n",
      "46       31    3         \n",
      "8        32    1         \n",
      "9        33    1         \n",
      "30       34    2         \n",
      "47       35    3         \n",
      "48       36    3         \n",
      "10       37    1         \n",
      "31       39    2         \n",
      "11       40    1         \n",
      "12       42    1         \n",
      "32       44    2         \n",
      "33       48    2         \n",
      "13       49    1         \n",
      "14       50    1         \n",
      "34       51    2         \n",
      "35       52    2         \n",
      "36       53    2         \n",
      "37       54    2         \n",
      "15       58    1         \n",
      "16       59    1         \n",
      "17       60    1         \n",
      "18       61    1         \n",
      "38       62    2         \n",
      "19       63    1         \n",
      "39       65    2         \n",
      "40       66    2         \n",
      "20       67    1         \n",
      "49       68    3         \n",
      "21       69    1         \n",
      "22       70    1         \n",
      "52       71    4         \n",
      "23       72    1         \n",
      "53       73    5         \n",
      "50       74    3         \n"
     ]
    }
   ],
   "source": [
    "print (\"{:<8} {:<5} {:<10}\".format('Row No.','age','ppl count'))\n",
    "for row,ppl, age in c.execute(\"SELECT ROW_NUMBER () OVER ( ORDER BY count(*),age) RowNum, count(*) as ppl, age FROM persons GROUP BY age ORDER BY age\"):\n",
    "    #print(\"{}. We have a count of {} people with age {}\".format(row,ppl, age))\n",
    "    print (\"{:<8} {:<5} {:<10}\".format(row,age, ppl))"
   ]
  },
  {
   "cell_type": "code",
   "execution_count": 21,
   "id": "fa65e8af",
   "metadata": {},
   "outputs": [
    {
     "name": "stdout",
     "output_type": "stream",
     "text": [
      "Max number of people is : 5 in age group of 73\n"
     ]
    }
   ],
   "source": [
    "#Age Group which has max number of people\n",
    "\n",
    "for ppl, age in c.execute(\"with cte_data as (SELECT ROW_NUMBER () OVER ( ORDER BY count(*),age) RowNum, count(*) as ppl, age FROM persons GROUP BY age ORDER BY count(*)) SELECT ppl, age FROM    cte_data WHERE   RowNum = (SELECT MAX(RowNum)  FROM cte_data)\"):\n",
    "    print(\"Max number of people is {} in age group of {}\".format(ppl, age))"
   ]
  },
  {
   "cell_type": "code",
   "execution_count": 37,
   "id": "67455e50",
   "metadata": {},
   "outputs": [
    {
     "name": "stdout",
     "output_type": "stream",
     "text": [
      "People where last_name is missing - 60\n"
     ]
    }
   ],
   "source": [
    "#Find people without a last name\n",
    "count_people = c.execute(\"SELECT count(*) FROM persons WHERE last_name IS null\")\n",
    "for row in count_people:\n",
    "    print(\"People where last_name is missing - {}\".format(row[0]))"
   ]
  },
  {
   "cell_type": "code",
   "execution_count": 34,
   "id": "6b79f02c",
   "metadata": {},
   "outputs": [
    {
     "name": "stdout",
     "output_type": "stream",
     "text": [
      "People have more than one pet - 43\n"
     ]
    }
   ],
   "source": [
    "#How many have more than 1 pet\n",
    "\n",
    "count_people_pet = c.execute(\"SELECT count(*) FROM (SELECT count(owner_id) FROM pets GROUP BY owner_id HAVING count(owner_id) >1)\")\n",
    "for row in count_people_pet:\n",
    "    print(\"People have more than one pet - {}\".format(row[0]))"
   ]
  },
  {
   "cell_type": "code",
   "execution_count": 33,
   "id": "42ce7834",
   "metadata": {},
   "outputs": [
    {
     "name": "stdout",
     "output_type": "stream",
     "text": [
      "count of treated pets - 36\n"
     ]
    }
   ],
   "source": [
    "#How many pets have received treatments\n",
    "\n",
    "count_pets_treat = c.execute(\"SELECT count(*) FROM pets WHERE treatment_done=1\")\n",
    "for row in count_pets_treat:\n",
    "    print(\"count of treated pets - {}\".format(row[0]))"
   ]
  },
  {
   "cell_type": "code",
   "execution_count": 32,
   "id": "31fe3caa",
   "metadata": {},
   "outputs": [
    {
     "name": "stdout",
     "output_type": "stream",
     "text": [
      "count of treated pets where type is known - 16\n"
     ]
    }
   ],
   "source": [
    "#How many pets have received treatments & type of pet in known\n",
    "\n",
    "count_pets_treat_type_known = c.execute(\"SELECT count(*) FROM pets WHERE treatment_done=1 AND pet_type IS NOT null\")\n",
    "for row in count_pets_treat_type_known:\n",
    "    print(\"count of treated pets where type is known - {}\".format(row[0]))"
   ]
  },
  {
   "cell_type": "code",
   "execution_count": 30,
   "id": "9e83cbee",
   "metadata": {},
   "outputs": [
    {
     "name": "stdout",
     "output_type": "stream",
     "text": [
      " East Port Pets - 49\n"
     ]
    }
   ],
   "source": [
    "# How many pets are from East Port\n",
    "\n",
    "count_pets_east_port = c.execute(\"SELECT count(*) FROM pets JOIN persons ON pets.owner_id = persons.id WHERE persons.city='east port'\")\n",
    "for row in count_pets_east_port:\n",
    "    print(\" East Port Pets - {}\".format(row[0]))"
   ]
  },
  {
   "cell_type": "code",
   "execution_count": 31,
   "id": "0b8de2cc",
   "metadata": {},
   "outputs": [
    {
     "name": "stdout",
     "output_type": "stream",
     "text": [
      "East Port Treated Pets - 11\n"
     ]
    }
   ],
   "source": [
    "# How many pets are from East Port & received treatments\n",
    "\n",
    "count_pets_east_port_treated = c.execute(\"SELECT count(*) FROM pets JOIN persons ON pets.owner_id = persons.id WHERE persons.city='east port' AND pets.treatment_done=1\")\n",
    "for row in count_pets_east_port_treated:\n",
    "    print(\"East Port Treated Pets - {}\".format(row[0]))"
   ]
  }
 ],
 "metadata": {
  "kernelspec": {
   "display_name": "Python 3",
   "language": "python",
   "name": "python3"
  },
  "language_info": {
   "codemirror_mode": {
    "name": "ipython",
    "version": 3
   },
   "file_extension": ".py",
   "mimetype": "text/x-python",
   "name": "python",
   "nbconvert_exporter": "python",
   "pygments_lexer": "ipython3",
   "version": "3.8.8"
  }
 },
 "nbformat": 4,
 "nbformat_minor": 5
}
