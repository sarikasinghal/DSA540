{
 "cells": [
  {
   "cell_type": "code",
   "execution_count": 1,
   "id": "dd914289",
   "metadata": {},
   "outputs": [],
   "source": [
    "import csv"
   ]
  },
  {
   "cell_type": "code",
   "execution_count": 25,
   "id": "cdc627fd",
   "metadata": {},
   "outputs": [],
   "source": [
    "csvfile = open('data-text.csv')"
   ]
  },
  {
   "cell_type": "code",
   "execution_count": 26,
   "id": "aa0dbf73",
   "metadata": {},
   "outputs": [],
   "source": [
    "reader = csv.reader(csvfile)"
   ]
  },
  {
   "cell_type": "code",
   "execution_count": 27,
   "id": "fc726854",
   "metadata": {},
   "outputs": [
    {
     "name": "stdout",
     "output_type": "stream",
     "text": [
      "['Name', 'age', 'Sex', 'display-value', 'numeric']\n",
      "['Andy', '24', 'Both', '40', '40.0']\n",
      "['Ria', '25', 'Male', '45', '45.0']\n"
     ]
    }
   ],
   "source": [
    "for row in reader:\n",
    "    print(row)"
   ]
  },
  {
   "cell_type": "code",
   "execution_count": 28,
   "id": "46309269",
   "metadata": {},
   "outputs": [],
   "source": [
    "dogs = ['1','2','3']"
   ]
  },
  {
   "cell_type": "code",
   "execution_count": 29,
   "id": "62e0938e",
   "metadata": {},
   "outputs": [
    {
     "name": "stdout",
     "output_type": "stream",
     "text": [
      "1\n",
      "2\n",
      "3\n"
     ]
    }
   ],
   "source": [
    "for dogs in dogs:\n",
    "    print(dogs)"
   ]
  },
  {
   "cell_type": "code",
   "execution_count": 40,
   "id": "bfc6ef45",
   "metadata": {},
   "outputs": [],
   "source": [
    "csvfile2 = open('data-text.csv')"
   ]
  },
  {
   "cell_type": "code",
   "execution_count": 41,
   "id": "1b7e6ff6",
   "metadata": {},
   "outputs": [],
   "source": [
    "reader2 = csv.DictReader(csvfile2)"
   ]
  },
  {
   "cell_type": "code",
   "execution_count": 42,
   "id": "1ac15506",
   "metadata": {},
   "outputs": [
    {
     "name": "stdout",
     "output_type": "stream",
     "text": [
      "{'Name': 'Andy', 'age': '24', 'Sex': 'Both', 'display-value': '40', 'numeric': '40.0'}\n",
      "{'Name': 'Ria', 'age': '25', 'Sex': 'Male', 'display-value': '45', 'numeric': '45.0'}\n"
     ]
    }
   ],
   "source": [
    "for row in reader2:\n",
    "    print(row)"
   ]
  },
  {
   "cell_type": "code",
   "execution_count": 43,
   "id": "e3f7e7b4",
   "metadata": {},
   "outputs": [],
   "source": [
    "from xml.etree import ElementTree as ET"
   ]
  },
  {
   "cell_type": "code",
   "execution_count": 56,
   "id": "8d5c00cb",
   "metadata": {},
   "outputs": [],
   "source": [
    "tree = ET.parse('data-set.xml')"
   ]
  },
  {
   "cell_type": "code",
   "execution_count": 57,
   "id": "1ab7969e",
   "metadata": {},
   "outputs": [],
   "source": [
    "root = tree.getroot()"
   ]
  },
  {
   "cell_type": "code",
   "execution_count": 58,
   "id": "e2e9fe66",
   "metadata": {},
   "outputs": [
    {
     "name": "stdout",
     "output_type": "stream",
     "text": [
      "['__class__', '__copy__', '__deepcopy__', '__delattr__', '__delitem__', '__dir__', '__doc__', '__eq__', '__format__', '__ge__', '__getattribute__', '__getitem__', '__getstate__', '__gt__', '__hash__', '__init__', '__init_subclass__', '__le__', '__len__', '__lt__', '__ne__', '__new__', '__reduce__', '__reduce_ex__', '__repr__', '__setattr__', '__setitem__', '__setstate__', '__sizeof__', '__str__', '__subclasshook__', 'append', 'attrib', 'clear', 'extend', 'find', 'findall', 'findtext', 'get', 'getchildren', 'getiterator', 'insert', 'items', 'iter', 'iterfind', 'itertext', 'keys', 'makeelement', 'remove', 'set', 'tag', 'tail', 'text']\n"
     ]
    }
   ],
   "source": [
    "print(dir(root))"
   ]
  },
  {
   "cell_type": "code",
   "execution_count": 59,
   "id": "524f57b1",
   "metadata": {},
   "outputs": [
    {
     "name": "stdout",
     "output_type": "stream",
     "text": [
      "[<Element 'row' at 0x7f86945dc090>]\n"
     ]
    }
   ],
   "source": [
    "print(list(root))"
   ]
  },
  {
   "cell_type": "code",
   "execution_count": 60,
   "id": "31896e77",
   "metadata": {},
   "outputs": [],
   "source": [
    "data = root.find('Data')"
   ]
  },
  {
   "cell_type": "code",
   "execution_count": null,
   "id": "bf085739",
   "metadata": {},
   "outputs": [],
   "source": [
    "print(list(data))"
   ]
  },
  {
   "cell_type": "code",
   "execution_count": null,
   "id": "eff37cf7",
   "metadata": {},
   "outputs": [],
   "source": [
    "for observaiton in data:\n",
    "    for item in observation:\n",
    "        print (item.text)"
   ]
  },
  {
   "cell_type": "code",
   "execution_count": null,
   "id": "1d5eb4f6",
   "metadata": {},
   "outputs": [],
   "source": [
    "cvhm"
   ]
  }
 ],
 "metadata": {
  "kernelspec": {
   "display_name": "Python 3",
   "language": "python",
   "name": "python3"
  },
  "language_info": {
   "codemirror_mode": {
    "name": "ipython",
    "version": 3
   },
   "file_extension": ".py",
   "mimetype": "text/x-python",
   "name": "python",
   "nbconvert_exporter": "python",
   "pygments_lexer": "ipython3",
   "version": "3.8.8"
  }
 },
 "nbformat": 4,
 "nbformat_minor": 5
}
